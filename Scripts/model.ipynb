{
 "cells": [
  {
   "cell_type": "code",
   "execution_count": 2,
   "metadata": {},
   "outputs": [
    {
     "name": "stdout",
     "output_type": "stream",
     "text": [
      "Epoch 1/50\n",
      "428/428 [==============================] - 24s 6ms/step - loss: 3.5540 - accuracy: 0.1238\n",
      "Epoch 2/50\n",
      "428/428 [==============================] - 3s 7ms/step - loss: 2.6684 - accuracy: 0.1857\n",
      "Epoch 3/50\n",
      "428/428 [==============================] - 2s 5ms/step - loss: 2.4210 - accuracy: 0.2231\n",
      "Epoch 4/50\n",
      "428/428 [==============================] - 2s 4ms/step - loss: 2.3563 - accuracy: 0.2255\n",
      "Epoch 5/50\n",
      "428/428 [==============================] - 2s 4ms/step - loss: 2.2858 - accuracy: 0.2056\n",
      "Epoch 6/50\n",
      "428/428 [==============================] - 2s 4ms/step - loss: 2.2365 - accuracy: 0.2371\n",
      "Epoch 7/50\n",
      "428/428 [==============================] - 2s 4ms/step - loss: 2.2089 - accuracy: 0.2360\n",
      "Epoch 8/50\n",
      "428/428 [==============================] - 2s 4ms/step - loss: 2.1907 - accuracy: 0.2278\n",
      "Epoch 9/50\n",
      "428/428 [==============================] - 2s 4ms/step - loss: 2.1681 - accuracy: 0.2290\n",
      "Epoch 10/50\n",
      "428/428 [==============================] - 1s 3ms/step - loss: 2.1429 - accuracy: 0.2395\n",
      "Epoch 11/50\n",
      "428/428 [==============================] - 2s 4ms/step - loss: 2.1371 - accuracy: 0.2477\n",
      "Epoch 12/50\n",
      "428/428 [==============================] - 2s 5ms/step - loss: 2.1294 - accuracy: 0.2407\n",
      "Epoch 13/50\n",
      "428/428 [==============================] - 2s 6ms/step - loss: 2.0986 - accuracy: 0.2488\n",
      "Epoch 14/50\n",
      "428/428 [==============================] - 2s 5ms/step - loss: 2.0979 - accuracy: 0.2465\n",
      "Epoch 15/50\n",
      "428/428 [==============================] - 2s 4ms/step - loss: 2.0740 - accuracy: 0.2617\n",
      "Epoch 16/50\n",
      "428/428 [==============================] - 1s 3ms/step - loss: 2.0611 - accuracy: 0.2652\n",
      "Epoch 17/50\n",
      "428/428 [==============================] - 1s 3ms/step - loss: 2.0572 - accuracy: 0.2558\n",
      "Epoch 18/50\n",
      "428/428 [==============================] - 1s 3ms/step - loss: 2.0444 - accuracy: 0.2605\n",
      "Epoch 19/50\n",
      "428/428 [==============================] - 1s 3ms/step - loss: 2.0283 - accuracy: 0.2850\n",
      "Epoch 20/50\n",
      "428/428 [==============================] - 1s 3ms/step - loss: 2.0322 - accuracy: 0.2699\n",
      "Epoch 21/50\n",
      "428/428 [==============================] - 1s 3ms/step - loss: 2.0134 - accuracy: 0.2745\n",
      "Epoch 22/50\n",
      "428/428 [==============================] - 2s 4ms/step - loss: 2.0153 - accuracy: 0.2570\n",
      "Epoch 23/50\n",
      "428/428 [==============================] - 2s 4ms/step - loss: 2.0087 - accuracy: 0.2780\n",
      "Epoch 24/50\n",
      "428/428 [==============================] - 2s 4ms/step - loss: 1.9986 - accuracy: 0.2699\n",
      "Epoch 25/50\n",
      "428/428 [==============================] - 1s 3ms/step - loss: 1.9962 - accuracy: 0.2582\n",
      "Epoch 26/50\n",
      "428/428 [==============================] - 1s 3ms/step - loss: 1.9929 - accuracy: 0.2664\n",
      "Epoch 27/50\n",
      "428/428 [==============================] - 1s 3ms/step - loss: 1.9961 - accuracy: 0.2710\n",
      "Epoch 28/50\n",
      "428/428 [==============================] - 1s 3ms/step - loss: 1.9820 - accuracy: 0.2710\n",
      "Epoch 29/50\n",
      "428/428 [==============================] - 1s 3ms/step - loss: 1.9827 - accuracy: 0.2734\n",
      "Epoch 30/50\n",
      "428/428 [==============================] - 1s 3ms/step - loss: 1.9765 - accuracy: 0.2827\n",
      "Epoch 31/50\n",
      "428/428 [==============================] - 1s 3ms/step - loss: 1.9640 - accuracy: 0.2944\n",
      "Epoch 32/50\n",
      "428/428 [==============================] - 2s 4ms/step - loss: 1.9623 - accuracy: 0.3061\n",
      "Epoch 33/50\n",
      "428/428 [==============================] - 2s 4ms/step - loss: 1.9672 - accuracy: 0.2839\n",
      "Epoch 34/50\n",
      "428/428 [==============================] - 2s 4ms/step - loss: 1.9500 - accuracy: 0.2792\n",
      "Epoch 35/50\n",
      "428/428 [==============================] - 2s 4ms/step - loss: 1.9548 - accuracy: 0.2956\n",
      "Epoch 36/50\n",
      "428/428 [==============================] - 2s 4ms/step - loss: 1.9347 - accuracy: 0.2979\n",
      "Epoch 37/50\n",
      "428/428 [==============================] - 2s 4ms/step - loss: 1.9563 - accuracy: 0.2944\n",
      "Epoch 38/50\n",
      "428/428 [==============================] - 2s 4ms/step - loss: 1.9512 - accuracy: 0.2862\n",
      "Epoch 39/50\n",
      "428/428 [==============================] - 2s 4ms/step - loss: 1.9371 - accuracy: 0.2991\n",
      "Epoch 40/50\n",
      "428/428 [==============================] - 1s 3ms/step - loss: 1.9315 - accuracy: 0.2921\n",
      "Epoch 41/50\n",
      "428/428 [==============================] - 2s 4ms/step - loss: 1.9288 - accuracy: 0.3084\n",
      "Epoch 42/50\n",
      "428/428 [==============================] - 2s 5ms/step - loss: 1.9227 - accuracy: 0.3049\n",
      "Epoch 43/50\n",
      "428/428 [==============================] - 2s 5ms/step - loss: 1.9201 - accuracy: 0.3049\n",
      "Epoch 44/50\n",
      "428/428 [==============================] - 2s 6ms/step - loss: 1.9165 - accuracy: 0.2874\n",
      "Epoch 45/50\n",
      "428/428 [==============================] - 2s 5ms/step - loss: 1.9164 - accuracy: 0.2932\n",
      "Epoch 46/50\n",
      "428/428 [==============================] - 2s 6ms/step - loss: 1.9223 - accuracy: 0.2921\n",
      "Epoch 47/50\n",
      "428/428 [==============================] - 2s 5ms/step - loss: 1.9022 - accuracy: 0.2909\n",
      "Epoch 48/50\n",
      "428/428 [==============================] - 2s 5ms/step - loss: 1.9033 - accuracy: 0.3014\n",
      "Epoch 49/50\n",
      "428/428 [==============================] - 2s 5ms/step - loss: 1.9077 - accuracy: 0.3107\n",
      "Epoch 50/50\n",
      "428/428 [==============================] - 2s 5ms/step - loss: 1.8944 - accuracy: 0.3119\n",
      "Training Accuracy: 33.53%\n"
     ]
    }
   ],
   "source": [
    "import numpy as np\n",
    "import pandas as pd\n",
    "import tensorflow as tf\n",
    "from sklearn.model_selection import train_test_split\n",
    "from tensorflow.keras.models import Sequential\n",
    "from tensorflow.keras.layers import Conv2D, MaxPooling2D, Flatten, Dense\n",
    "from tensorflow.keras.utils import to_categorical\n",
    "\n",
    "# Load data from the CSV file\n",
    "data = pd.read_csv(\"../Data/data.csv\")\n",
    "\n",
    "# Define the features and labels\n",
    "X = data.iloc[:, :-1].values  # Features\n",
    "y = data.iloc[:, -1].values    # Labels\n",
    "\n",
    "# Perform one-hot encoding for the labels\n",
    "y = to_categorical(y, num_classes=40)  # Assuming there are 40 possible activity classes (0 to 39)\n",
    "\n",
    "# Split the data into training and testing sets\n",
    "X_train, X_test, y_train, y_test = train_test_split(X, y, test_size=0.2, random_state=42)\n",
    "\n",
    "# Reshape the data for CNN (assuming a single channel for each feature)\n",
    "X_train = X_train.reshape(-1, X_train.shape[1], 1, 1)\n",
    "X_test = X_test.reshape(-1, X_test.shape[1], 1, 1)\n",
    "\n",
    "# Define the CNN model\n",
    "model = Sequential()\n",
    "model.add(Conv2D(32, kernel_size=(3, 1), activation='relu', input_shape=(X_train.shape[1], 1, 1)))\n",
    "model.add(MaxPooling2D(pool_size=(2, 1)))\n",
    "model.add(Flatten())\n",
    "model.add(Dense(64, activation='relu'))\n",
    "model.add(Dense(40, activation='softmax'))  # 40 possible activity classes (0 to 39)\n",
    "\n",
    "# Compile the model\n",
    "model.compile(loss='categorical_crossentropy', optimizer='adam', metrics=['accuracy'])\n",
    "\n",
    "# Train the model\n",
    "model.fit(X_train, y_train, epochs=50, batch_size=2, verbose=1)\n",
    "\n",
    "# Evaluate the model on the training data\n",
    "train_loss, train_accuracy = model.evaluate(X_train, y_train, verbose=0)\n",
    "print(f'Training Accuracy: {train_accuracy * 100:.2f}%')\n"
   ]
  },
  {
   "cell_type": "code",
   "execution_count": 3,
   "metadata": {},
   "outputs": [],
   "source": [
    "# Save the trained model\n",
    "model.save(\"model.h5\")"
   ]
  },
  {
   "cell_type": "code",
   "execution_count": 4,
   "metadata": {},
   "outputs": [
    {
     "name": "stdout",
     "output_type": "stream",
     "text": [
      "27/27 [==============================] - 0s 4ms/step\n",
      "Top 4 Predicted Classes for Training Data:\n",
      "[[20 15 18 38]\n",
      " [24 23 11 25]\n",
      " [36 18 38 20]\n",
      " ...\n",
      " [ 8  5  7  6]\n",
      " [36 18 38 20]\n",
      " [35 32 31 33]]\n"
     ]
    }
   ],
   "source": [
    "# Make predictions on the training data\n",
    "train_predictions = model.predict(X_train)\n",
    "\n",
    "# Get the top 4 predicted classes based on class probabilities\n",
    "top4_predicted_classes = np.argsort(train_predictions, axis=1)[:, -4:]\n",
    "\n",
    "# Print the top 4 predicted classes for each sample\n",
    "print(\"Top 4 Predicted Classes for Training Data:\")\n",
    "print(top4_predicted_classes)\n"
   ]
  },
  {
   "cell_type": "code",
   "execution_count": 5,
   "metadata": {},
   "outputs": [
    {
     "data": {
      "text/plain": [
       "(856, 5, 1, 1)"
      ]
     },
     "execution_count": 5,
     "metadata": {},
     "output_type": "execute_result"
    }
   ],
   "source": [
    "X_train.shape"
   ]
  },
  {
   "cell_type": "code",
   "execution_count": 6,
   "metadata": {},
   "outputs": [
    {
     "ename": "ValueError",
     "evalue": "in user code:\n\n    File \"c:\\Users\\mohan\\anaconda3\\lib\\site-packages\\keras\\engine\\training.py\", line 2041, in predict_function  *\n        return step_function(self, iterator)\n    File \"c:\\Users\\mohan\\anaconda3\\lib\\site-packages\\keras\\engine\\training.py\", line 2027, in step_function  **\n        outputs = model.distribute_strategy.run(run_step, args=(data,))\n    File \"c:\\Users\\mohan\\anaconda3\\lib\\site-packages\\keras\\engine\\training.py\", line 2015, in run_step  **\n        outputs = model.predict_step(data)\n    File \"c:\\Users\\mohan\\anaconda3\\lib\\site-packages\\keras\\engine\\training.py\", line 1983, in predict_step\n        return self(x, training=False)\n    File \"c:\\Users\\mohan\\anaconda3\\lib\\site-packages\\keras\\utils\\traceback_utils.py\", line 70, in error_handler\n        raise e.with_traceback(filtered_tb) from None\n    File \"c:\\Users\\mohan\\anaconda3\\lib\\site-packages\\keras\\engine\\input_spec.py\", line 295, in assert_input_compatibility\n        raise ValueError(\n\n    ValueError: Input 0 of layer \"sequential\" is incompatible with the layer: expected shape=(None, 5, 1, 1), found shape=(None, 1, 1)\n",
     "output_type": "error",
     "traceback": [
      "\u001b[1;31m---------------------------------------------------------------------------\u001b[0m",
      "\u001b[1;31mValueError\u001b[0m                                Traceback (most recent call last)",
      "\u001b[1;32m~\\AppData\\Local\\Temp\\ipykernel_30108\\1023551661.py\u001b[0m in \u001b[0;36m<module>\u001b[1;34m\u001b[0m\n\u001b[0;32m      1\u001b[0m \u001b[1;31m# Load the saved model for predictions\u001b[0m\u001b[1;33m\u001b[0m\u001b[1;33m\u001b[0m\u001b[0m\n\u001b[0;32m      2\u001b[0m \u001b[0mloaded_model\u001b[0m \u001b[1;33m=\u001b[0m \u001b[0mtf\u001b[0m\u001b[1;33m.\u001b[0m\u001b[0mkeras\u001b[0m\u001b[1;33m.\u001b[0m\u001b[0mmodels\u001b[0m\u001b[1;33m.\u001b[0m\u001b[0mload_model\u001b[0m\u001b[1;33m(\u001b[0m\u001b[1;34m\"model.h5\"\u001b[0m\u001b[1;33m)\u001b[0m\u001b[1;33m\u001b[0m\u001b[1;33m\u001b[0m\u001b[0m\n\u001b[1;32m----> 3\u001b[1;33m \u001b[0mpredictions\u001b[0m \u001b[1;33m=\u001b[0m \u001b[0mloaded_model\u001b[0m\u001b[1;33m.\u001b[0m\u001b[0mpredict\u001b[0m\u001b[1;33m(\u001b[0m\u001b[0mX_train\u001b[0m\u001b[1;33m[\u001b[0m\u001b[1;36m0\u001b[0m\u001b[1;33m]\u001b[0m\u001b[1;33m)\u001b[0m\u001b[1;33m\u001b[0m\u001b[1;33m\u001b[0m\u001b[0m\n\u001b[0m\u001b[0;32m      4\u001b[0m \u001b[1;31m# Get the top 4 predicted classes based on class probabilities\u001b[0m\u001b[1;33m\u001b[0m\u001b[1;33m\u001b[0m\u001b[0m\n\u001b[0;32m      5\u001b[0m \u001b[0mtop4_predicted_classes\u001b[0m \u001b[1;33m=\u001b[0m \u001b[0mnp\u001b[0m\u001b[1;33m.\u001b[0m\u001b[0margsort\u001b[0m\u001b[1;33m(\u001b[0m\u001b[0mpredictions\u001b[0m\u001b[1;33m,\u001b[0m \u001b[0maxis\u001b[0m\u001b[1;33m=\u001b[0m\u001b[1;36m1\u001b[0m\u001b[1;33m)\u001b[0m\u001b[1;33m[\u001b[0m\u001b[1;33m:\u001b[0m\u001b[1;33m,\u001b[0m \u001b[1;33m-\u001b[0m\u001b[1;36m4\u001b[0m\u001b[1;33m:\u001b[0m\u001b[1;33m]\u001b[0m\u001b[1;33m\u001b[0m\u001b[1;33m\u001b[0m\u001b[0m\n",
      "\u001b[1;32mc:\\Users\\mohan\\anaconda3\\lib\\site-packages\\keras\\utils\\traceback_utils.py\u001b[0m in \u001b[0;36merror_handler\u001b[1;34m(*args, **kwargs)\u001b[0m\n\u001b[0;32m     68\u001b[0m             \u001b[1;31m# To get the full stack trace, call:\u001b[0m\u001b[1;33m\u001b[0m\u001b[1;33m\u001b[0m\u001b[0m\n\u001b[0;32m     69\u001b[0m             \u001b[1;31m# `tf.debugging.disable_traceback_filtering()`\u001b[0m\u001b[1;33m\u001b[0m\u001b[1;33m\u001b[0m\u001b[0m\n\u001b[1;32m---> 70\u001b[1;33m             \u001b[1;32mraise\u001b[0m \u001b[0me\u001b[0m\u001b[1;33m.\u001b[0m\u001b[0mwith_traceback\u001b[0m\u001b[1;33m(\u001b[0m\u001b[0mfiltered_tb\u001b[0m\u001b[1;33m)\u001b[0m \u001b[1;32mfrom\u001b[0m \u001b[1;32mNone\u001b[0m\u001b[1;33m\u001b[0m\u001b[1;33m\u001b[0m\u001b[0m\n\u001b[0m\u001b[0;32m     71\u001b[0m         \u001b[1;32mfinally\u001b[0m\u001b[1;33m:\u001b[0m\u001b[1;33m\u001b[0m\u001b[1;33m\u001b[0m\u001b[0m\n\u001b[0;32m     72\u001b[0m             \u001b[1;32mdel\u001b[0m \u001b[0mfiltered_tb\u001b[0m\u001b[1;33m\u001b[0m\u001b[1;33m\u001b[0m\u001b[0m\n",
      "\u001b[1;32mc:\\Users\\mohan\\anaconda3\\lib\\site-packages\\keras\\engine\\training.py\u001b[0m in \u001b[0;36mtf__predict_function\u001b[1;34m(iterator)\u001b[0m\n\u001b[0;32m     13\u001b[0m                 \u001b[1;32mtry\u001b[0m\u001b[1;33m:\u001b[0m\u001b[1;33m\u001b[0m\u001b[1;33m\u001b[0m\u001b[0m\n\u001b[0;32m     14\u001b[0m                     \u001b[0mdo_return\u001b[0m \u001b[1;33m=\u001b[0m \u001b[1;32mTrue\u001b[0m\u001b[1;33m\u001b[0m\u001b[1;33m\u001b[0m\u001b[0m\n\u001b[1;32m---> 15\u001b[1;33m                     \u001b[0mretval_\u001b[0m \u001b[1;33m=\u001b[0m \u001b[0mag__\u001b[0m\u001b[1;33m.\u001b[0m\u001b[0mconverted_call\u001b[0m\u001b[1;33m(\u001b[0m\u001b[0mag__\u001b[0m\u001b[1;33m.\u001b[0m\u001b[0mld\u001b[0m\u001b[1;33m(\u001b[0m\u001b[0mstep_function\u001b[0m\u001b[1;33m)\u001b[0m\u001b[1;33m,\u001b[0m \u001b[1;33m(\u001b[0m\u001b[0mag__\u001b[0m\u001b[1;33m.\u001b[0m\u001b[0mld\u001b[0m\u001b[1;33m(\u001b[0m\u001b[0mself\u001b[0m\u001b[1;33m)\u001b[0m\u001b[1;33m,\u001b[0m \u001b[0mag__\u001b[0m\u001b[1;33m.\u001b[0m\u001b[0mld\u001b[0m\u001b[1;33m(\u001b[0m\u001b[0miterator\u001b[0m\u001b[1;33m)\u001b[0m\u001b[1;33m)\u001b[0m\u001b[1;33m,\u001b[0m \u001b[1;32mNone\u001b[0m\u001b[1;33m,\u001b[0m \u001b[0mfscope\u001b[0m\u001b[1;33m)\u001b[0m\u001b[1;33m\u001b[0m\u001b[1;33m\u001b[0m\u001b[0m\n\u001b[0m\u001b[0;32m     16\u001b[0m                 \u001b[1;32mexcept\u001b[0m\u001b[1;33m:\u001b[0m\u001b[1;33m\u001b[0m\u001b[1;33m\u001b[0m\u001b[0m\n\u001b[0;32m     17\u001b[0m                     \u001b[0mdo_return\u001b[0m \u001b[1;33m=\u001b[0m \u001b[1;32mFalse\u001b[0m\u001b[1;33m\u001b[0m\u001b[1;33m\u001b[0m\u001b[0m\n",
      "\u001b[1;31mValueError\u001b[0m: in user code:\n\n    File \"c:\\Users\\mohan\\anaconda3\\lib\\site-packages\\keras\\engine\\training.py\", line 2041, in predict_function  *\n        return step_function(self, iterator)\n    File \"c:\\Users\\mohan\\anaconda3\\lib\\site-packages\\keras\\engine\\training.py\", line 2027, in step_function  **\n        outputs = model.distribute_strategy.run(run_step, args=(data,))\n    File \"c:\\Users\\mohan\\anaconda3\\lib\\site-packages\\keras\\engine\\training.py\", line 2015, in run_step  **\n        outputs = model.predict_step(data)\n    File \"c:\\Users\\mohan\\anaconda3\\lib\\site-packages\\keras\\engine\\training.py\", line 1983, in predict_step\n        return self(x, training=False)\n    File \"c:\\Users\\mohan\\anaconda3\\lib\\site-packages\\keras\\utils\\traceback_utils.py\", line 70, in error_handler\n        raise e.with_traceback(filtered_tb) from None\n    File \"c:\\Users\\mohan\\anaconda3\\lib\\site-packages\\keras\\engine\\input_spec.py\", line 295, in assert_input_compatibility\n        raise ValueError(\n\n    ValueError: Input 0 of layer \"sequential\" is incompatible with the layer: expected shape=(None, 5, 1, 1), found shape=(None, 1, 1)\n"
     ]
    }
   ],
   "source": [
    "# Load the saved model for predictions\n",
    "loaded_model = tf.keras.models.load_model(\"model.h5\")\n",
    "predictions = loaded_model.predict(X_train[0])\n",
    "# Get the top 4 predicted classes based on class probabilities\n",
    "top4_predicted_classes = np.argsort(predictions, axis=1)[:, -4:]\n",
    "\n",
    "print(\"Predicted Labels for New Input Data:\")\n",
    "print(top4_predicted_classes)"
   ]
  },
  {
   "cell_type": "code",
   "execution_count": 5,
   "metadata": {},
   "outputs": [
    {
     "name": "stderr",
     "output_type": "stream",
     "text": [
      "WARNING:absl:Found untraced functions such as _jit_compiled_convolution_op while saving (showing 1 of 1). These functions will not be directly callable after loading.\n"
     ]
    },
    {
     "name": "stdout",
     "output_type": "stream",
     "text": [
      "INFO:tensorflow:Assets written to: ./saved_model\\assets\n"
     ]
    },
    {
     "name": "stderr",
     "output_type": "stream",
     "text": [
      "INFO:tensorflow:Assets written to: ./saved_model\\assets\n"
     ]
    }
   ],
   "source": [
    "# Convert the model to TensorFlow SavedModel format\n",
    "tf.saved_model.save(model, './saved_model')"
   ]
  },
  {
   "cell_type": "code",
   "execution_count": 6,
   "metadata": {},
   "outputs": [
    {
     "name": "stderr",
     "output_type": "stream",
     "text": [
      "WARNING:absl:Found untraced functions such as _jit_compiled_convolution_op while saving (showing 1 of 1). These functions will not be directly callable after loading.\n"
     ]
    },
    {
     "name": "stdout",
     "output_type": "stream",
     "text": [
      "INFO:tensorflow:Assets written to: model\\assets\n"
     ]
    },
    {
     "name": "stderr",
     "output_type": "stream",
     "text": [
      "INFO:tensorflow:Assets written to: model\\assets\n"
     ]
    }
   ],
   "source": [
    "model.save('model')"
   ]
  },
  {
   "cell_type": "code",
   "execution_count": 8,
   "metadata": {},
   "outputs": [
    {
     "data": {
      "text/plain": [
       "5"
      ]
     },
     "execution_count": 8,
     "metadata": {},
     "output_type": "execute_result"
    }
   ],
   "source": [
    "X_train.shape[1]"
   ]
  }
 ],
 "metadata": {
  "kernelspec": {
   "display_name": "base",
   "language": "python",
   "name": "python3"
  },
  "language_info": {
   "codemirror_mode": {
    "name": "ipython",
    "version": 3
   },
   "file_extension": ".py",
   "mimetype": "text/x-python",
   "name": "python",
   "nbconvert_exporter": "python",
   "pygments_lexer": "ipython3",
   "version": "3.9.13"
  },
  "orig_nbformat": 4
 },
 "nbformat": 4,
 "nbformat_minor": 2
}
